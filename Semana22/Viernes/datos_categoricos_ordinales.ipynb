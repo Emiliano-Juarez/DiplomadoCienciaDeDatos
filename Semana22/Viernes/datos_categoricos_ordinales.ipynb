{
 "cells": [
  {
   "cell_type": "markdown",
   "metadata": {},
   "source": [
    "<h2><font color=\"#004D7F\" size=6>Módulo 4. Machine Learning</font></h2>\n",
    "\n",
    "\n",
    "\n",
    "<h1><font color=\"#004D7F\" size=4>  Datos Categoricos Ordinales</font></h1>\n",
    "\n",
    "<br>\n",
    "<div style=\"text-align: right\">\n",
    "<font color=\"#004D7F\" size=3>Luisa López Vázquez</font><br>\n",
    "<font color=\"#004D7F\" size=3>Diplomado en Ciencia de Datos</font><br>"
   ]
  },
  {
   "cell_type": "markdown",
   "metadata": {},
   "source": [
    "<h1 style=\"color:darkblue;\"> Datos categóricos ordinales: <span style=\"color:purple;\">Contexto</span></h1>\n",
    "\n",
    "<h3 style=\"color:blue;\"> ¿Qué tan satisfecho está con el servicio? </h3>\n",
    "<ul>\n",
    "    <li>Muy insatisfecho</li>\n",
    "    <li>Insatisfecho</li>\n",
    "    <li>Neutral</li>\n",
    "    <li>Satisfecho</li>\n",
    "    <li>Muy satisfecho</li>\n",
    "</ul>\n",
    "\n",
    "<h3 style=\"color:blue;\"> ¿Cómo calificaría la calidad de los alimentos? </h3>\n",
    "<ul>\n",
    "    <li>Mala</li>\n",
    "    <li>Buena</li>\n",
    "    <li>Muy buena</li>\n",
    "    <li>Excelente</li>\n",
    "</ul>"
   ]
  },
  {
   "cell_type": "code",
   "execution_count": 1,
   "metadata": {},
   "outputs": [],
   "source": [
    "import pandas as pd\n",
    "import numpy as np\n",
    "\n",
    "categorias_servicio = [\"Muy insatisfecho\", \"Insatisfecho\", \n",
    "                       \"Neutral\", \"Satisfecho\", \"Muy satisfecho\"]\n",
    "\n",
    "categorias_calidad = [\"Mala\", \"Buena\", \"Muy buena\", \"Excelente\"]\n",
    "\n",
    "encuesta = {\"servicio\" : [\"Muy insatisfecho\", \"Insatisfecho\",\n",
    "                          \"Neutral\", \"Satisfecho\", \"Muy satisfecho\",\n",
    "                          \"Muy insatisfecho\"],\n",
    "            \n",
    "            \"alimentos\" : [\"Mala\", \"Buena\", \"Muy buena\",\n",
    "                           \"Excelente\", \"Mala\", \"Buena\"]}"
   ]
  },
  {
   "cell_type": "markdown",
   "metadata": {},
   "source": [
    "<h1 style=\"color:darkred;\">Codificador Ordinal</h1>\n",
    "<h3 style=\"color:darkblue;\">Evita la maldición de la dimensionalidad, <span style=\"color:purple;\">pero ... </span></h3>\n"
   ]
  },
  {
   "cell_type": "code",
   "execution_count": 3,
   "metadata": {},
   "outputs": [
    {
     "name": "stdout",
     "output_type": "stream",
     "text": [
      "   servicio  alimentos\n",
      "0       0.0        0.0\n",
      "1       1.0        1.0\n",
      "2       2.0        2.0\n",
      "3       3.0        3.0\n",
      "4       4.0        0.0\n",
      "5       0.0        1.0\n",
      "[array(['Muy insatisfecho', 'Insatisfecho', 'Neutral', 'Satisfecho',\n",
      "       'Muy satisfecho'], dtype=object), array(['Mala', 'Buena', 'Muy buena', 'Excelente'], dtype=object)]\n"
     ]
    }
   ],
   "source": [
    "from sklearn.preprocessing import OrdinalEncoder\n",
    "\n",
    "# Primer paso: pasar la info al dataframe\n",
    "datos_ord = pd.DataFrame(encuesta)\n",
    "\n",
    "codificador = OrdinalEncoder(categories=[categorias_servicio, categorias_calidad])\n",
    "\n",
    "datos_ord = pd.DataFrame(codificador.fit_transform(datos_ord), columns=[\"servicio\", \"alimentos\"])\n",
    "print(datos_ord)\n",
    "print(codificador.categories_) # Imprimir las categorias de la encuesta"
   ]
  },
  {
   "cell_type": "markdown",
   "metadata": {},
   "source": [
    "<h1 style=\"color:darkred;\"> Codificador OneHotEncoder </h1>"
   ]
  },
  {
   "cell_type": "code",
   "execution_count": 4,
   "metadata": {},
   "outputs": [
    {
     "data": {
      "text/html": [
       "<div>\n",
       "<style scoped>\n",
       "    .dataframe tbody tr th:only-of-type {\n",
       "        vertical-align: middle;\n",
       "    }\n",
       "\n",
       "    .dataframe tbody tr th {\n",
       "        vertical-align: top;\n",
       "    }\n",
       "\n",
       "    .dataframe thead th {\n",
       "        text-align: right;\n",
       "    }\n",
       "</style>\n",
       "<table border=\"1\" class=\"dataframe\">\n",
       "  <thead>\n",
       "    <tr style=\"text-align: right;\">\n",
       "      <th></th>\n",
       "      <th>Insatisfecho</th>\n",
       "      <th>Muy insatisfecho</th>\n",
       "      <th>Muy satisfecho</th>\n",
       "      <th>Neutral</th>\n",
       "      <th>Satisfecho</th>\n",
       "      <th>Buena</th>\n",
       "      <th>Excelente</th>\n",
       "      <th>Mala</th>\n",
       "      <th>Muy buena</th>\n",
       "    </tr>\n",
       "  </thead>\n",
       "  <tbody>\n",
       "    <tr>\n",
       "      <th>0</th>\n",
       "      <td>0.0</td>\n",
       "      <td>1.0</td>\n",
       "      <td>0.0</td>\n",
       "      <td>0.0</td>\n",
       "      <td>0.0</td>\n",
       "      <td>0.0</td>\n",
       "      <td>0.0</td>\n",
       "      <td>1.0</td>\n",
       "      <td>0.0</td>\n",
       "    </tr>\n",
       "    <tr>\n",
       "      <th>1</th>\n",
       "      <td>1.0</td>\n",
       "      <td>0.0</td>\n",
       "      <td>0.0</td>\n",
       "      <td>0.0</td>\n",
       "      <td>0.0</td>\n",
       "      <td>1.0</td>\n",
       "      <td>0.0</td>\n",
       "      <td>0.0</td>\n",
       "      <td>0.0</td>\n",
       "    </tr>\n",
       "    <tr>\n",
       "      <th>2</th>\n",
       "      <td>0.0</td>\n",
       "      <td>0.0</td>\n",
       "      <td>0.0</td>\n",
       "      <td>1.0</td>\n",
       "      <td>0.0</td>\n",
       "      <td>0.0</td>\n",
       "      <td>0.0</td>\n",
       "      <td>0.0</td>\n",
       "      <td>1.0</td>\n",
       "    </tr>\n",
       "    <tr>\n",
       "      <th>3</th>\n",
       "      <td>0.0</td>\n",
       "      <td>0.0</td>\n",
       "      <td>0.0</td>\n",
       "      <td>0.0</td>\n",
       "      <td>1.0</td>\n",
       "      <td>0.0</td>\n",
       "      <td>1.0</td>\n",
       "      <td>0.0</td>\n",
       "      <td>0.0</td>\n",
       "    </tr>\n",
       "    <tr>\n",
       "      <th>4</th>\n",
       "      <td>0.0</td>\n",
       "      <td>0.0</td>\n",
       "      <td>1.0</td>\n",
       "      <td>0.0</td>\n",
       "      <td>0.0</td>\n",
       "      <td>0.0</td>\n",
       "      <td>0.0</td>\n",
       "      <td>1.0</td>\n",
       "      <td>0.0</td>\n",
       "    </tr>\n",
       "    <tr>\n",
       "      <th>5</th>\n",
       "      <td>0.0</td>\n",
       "      <td>1.0</td>\n",
       "      <td>0.0</td>\n",
       "      <td>0.0</td>\n",
       "      <td>0.0</td>\n",
       "      <td>1.0</td>\n",
       "      <td>0.0</td>\n",
       "      <td>0.0</td>\n",
       "      <td>0.0</td>\n",
       "    </tr>\n",
       "  </tbody>\n",
       "</table>\n",
       "</div>"
      ],
      "text/plain": [
       "   Insatisfecho  Muy insatisfecho  Muy satisfecho  Neutral  Satisfecho  Buena  \\\n",
       "0           0.0               1.0             0.0      0.0         0.0    0.0   \n",
       "1           1.0               0.0             0.0      0.0         0.0    1.0   \n",
       "2           0.0               0.0             0.0      1.0         0.0    0.0   \n",
       "3           0.0               0.0             0.0      0.0         1.0    0.0   \n",
       "4           0.0               0.0             1.0      0.0         0.0    0.0   \n",
       "5           0.0               1.0             0.0      0.0         0.0    1.0   \n",
       "\n",
       "   Excelente  Mala  Muy buena  \n",
       "0        0.0   1.0        0.0  \n",
       "1        0.0   0.0        0.0  \n",
       "2        0.0   0.0        1.0  \n",
       "3        1.0   0.0        0.0  \n",
       "4        0.0   1.0        0.0  \n",
       "5        0.0   0.0        0.0  "
      ]
     },
     "execution_count": 4,
     "metadata": {},
     "output_type": "execute_result"
    }
   ],
   "source": [
    "from sklearn.preprocessing import OneHotEncoder\n",
    "datos_one = pd.DataFrame(encuesta)\n",
    "\n",
    "codificador = OneHotEncoder()\n",
    "\n",
    "datos_transformados = pd.DataFrame(codificador.fit_transform(datos_one).toarray(),\n",
    "                         columns=np.concatenate(codificador.categories_))\n",
    "datos_transformados"
   ]
  },
  {
   "cell_type": "markdown",
   "metadata": {},
   "source": [
    "<h1 style=\"color:darkred;\">Comparación de las Codificaciones</h1>\n",
    "<h2 style=\"color:darkblue;\">Clasificador: Regresión Logística </h2>"
   ]
  },
  {
   "cell_type": "code",
   "execution_count": 6,
   "metadata": {},
   "outputs": [],
   "source": [
    "from sklearn.linear_model import LogisticRegression\n",
    "from sklearn.preprocessing import MinMaxScaler\n",
    "\n"
   ]
  }
 ],
 "metadata": {
  "kernelspec": {
   "display_name": "Python 3 (ipykernel)",
   "language": "python",
   "name": "python3"
  },
  "language_info": {
   "codemirror_mode": {
    "name": "ipython",
    "version": 3
   },
   "file_extension": ".py",
   "mimetype": "text/x-python",
   "name": "python",
   "nbconvert_exporter": "python",
   "pygments_lexer": "ipython3",
   "version": "3.11.2"
  }
 },
 "nbformat": 4,
 "nbformat_minor": 4
}
